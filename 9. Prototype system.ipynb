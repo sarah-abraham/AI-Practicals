{
  "cells": [
    {
      "attachments": {},
      "cell_type": "markdown",
      "metadata": {},
      "source": [
        "Heart disease prediction is an example of an AI prototype model that uses machine learning algorithms to analyze patient data and predict the likelihood of developing heart disease. The model takes input data such as age, gender, blood pressure, cholesterol levels, and other medical history to make predictions. By training the model on a large dataset of patient records, it can learn to identify patterns and risk factors associated with heart disease. The output of the model is a prediction of the patient's risk of developing heart disease. This AI prototype model has the potential to revolutionize healthcare by providing doctors and patients with accurate and personalized predictions of heart disease risk, allowing for early intervention and prevention strategies. However, it is important to ensure that the model is tested on diverse and representative datasets and validated by medical experts to ensure its accuracy and effectiveness in real-world applications."
      ]
    },
    {
      "cell_type": "code",
      "execution_count": null,
      "metadata": {
        "colab": {
          "base_uri": "https://localhost:8080/"
        },
        "id": "euwy9EdJOD8b",
        "outputId": "a4c3be74-4424-4b40-b98f-03ce5eef04df"
      },
      "outputs": [
        {
          "name": "stdout",
          "output_type": "stream",
          "text": [
            "   age  sex  cp  trestbps   chol  fbs  restecg  thalach  exang  oldpeak  \\\n",
            "0   63    1   3     145.0  233.0    1        0    150.0      0      2.3   \n",
            "1   37    1   2     130.0  250.0    0        1    187.0      0      3.5   \n",
            "2   41    0   1     130.0    NaN    0        0    172.0      0      1.4   \n",
            "3   56    1   1     120.0    NaN    0        1    178.0      0      0.8   \n",
            "4   57    0   0     120.0  354.0    0        1    163.0      1      0.6   \n",
            "5   57    1   0       NaN  192.0    0        1    148.0      0      0.4   \n",
            "6   56    0   1       NaN  294.0    0        0    153.0      0      1.3   \n",
            "7   44    1   1     120.0  263.0    0        1      NaN      0      0.0   \n",
            "8   52    1   2     172.0  199.0    1        1      NaN      0      0.5   \n",
            "9   57    1   2     150.0  168.0    0        1    174.0      0      1.6   \n",
            "\n",
            "   slope  ca  thal  target  \n",
            "0      0   0     1       1  \n",
            "1      0   0     2       1  \n",
            "2      2   0     2       1  \n",
            "3      2   0     2       1  \n",
            "4      2   0     2       1  \n",
            "5      1   0     1       1  \n",
            "6      1   0     2       1  \n",
            "7      2   0     3       1  \n",
            "8      2   0     3       1  \n",
            "9      2   0     2       1  \n"
          ]
        }
      ],
      "source": [
        "import pandas as pd\n",
        "import matplotlib.pyplot as plt\n",
        "#Import Library Pandas\n",
        "df=pd.read_excel(\"/content/sample_data/EXPT3-heart.xlsx\") #I am working in Windows environment\n",
        "#Reading the dataset in a dataframe using Pandas\n",
        "print(df.head(10)) #Print first three observations"
      ]
    },
    {
      "cell_type": "code",
      "execution_count": null,
      "metadata": {
        "colab": {
          "base_uri": "https://localhost:8080/"
        },
        "id": "1dxP8de7R6k-",
        "outputId": "8a047133-e0f5-478d-aff7-5cf2349b8f6d"
      },
      "outputs": [
        {
          "data": {
            "text/plain": [
              "Index(['age', 'sex', 'cp', 'trestbps', 'chol', 'fbs', 'restecg', 'thalach',\n",
              "       'exang', 'oldpeak', 'slope', 'ca', 'thal', 'target'],\n",
              "      dtype='object')"
            ]
          },
          "execution_count": 11,
          "metadata": {},
          "output_type": "execute_result"
        }
      ],
      "source": [
        "df.columns"
      ]
    },
    {
      "cell_type": "code",
      "execution_count": null,
      "metadata": {
        "colab": {
          "base_uri": "https://localhost:8080/"
        },
        "id": "3veioi6yX8PM",
        "outputId": "1a5ce431-082a-489a-ecac-f28eed764d6f"
      },
      "outputs": [
        {
          "data": {
            "text/plain": [
              "count    303.000000\n",
              "mean      54.366337\n",
              "std        9.082101\n",
              "min       29.000000\n",
              "25%       47.500000\n",
              "50%       55.000000\n",
              "75%       61.000000\n",
              "max       77.000000\n",
              "Name: age, dtype: float64"
            ]
          },
          "execution_count": 12,
          "metadata": {},
          "output_type": "execute_result"
        }
      ],
      "source": [
        "df['age'].describe()\n"
      ]
    },
    {
      "cell_type": "code",
      "execution_count": null,
      "metadata": {
        "colab": {
          "base_uri": "https://localhost:8080/"
        },
        "id": "o7aenYy9boqH",
        "outputId": "593c6363-31ea-4e4d-925d-09fc7a86730c"
      },
      "outputs": [
        {
          "data": {
            "text/plain": [
              "count    303.000000\n",
              "mean       0.683168\n",
              "std        0.466011\n",
              "min        0.000000\n",
              "25%        0.000000\n",
              "50%        1.000000\n",
              "75%        1.000000\n",
              "max        1.000000\n",
              "Name: sex, dtype: float64"
            ]
          },
          "execution_count": 59,
          "metadata": {},
          "output_type": "execute_result"
        }
      ],
      "source": [
        "df['sex'].describe()\n"
      ]
    },
    {
      "cell_type": "code",
      "execution_count": null,
      "metadata": {
        "colab": {
          "base_uri": "https://localhost:8080/"
        },
        "id": "MM1LsN1gbu_d",
        "outputId": "7db5a974-7bd8-432d-8fd4-aba1362da7ae"
      },
      "outputs": [
        {
          "data": {
            "text/plain": [
              "count    303.000000\n",
              "mean       0.966997\n",
              "std        1.032052\n",
              "min        0.000000\n",
              "25%        0.000000\n",
              "50%        1.000000\n",
              "75%        2.000000\n",
              "max        3.000000\n",
              "Name: cp, dtype: float64"
            ]
          },
          "execution_count": 15,
          "metadata": {},
          "output_type": "execute_result"
        }
      ],
      "source": [
        "df['cp'].describe()"
      ]
    },
    {
      "cell_type": "code",
      "execution_count": null,
      "metadata": {
        "colab": {
          "base_uri": "https://localhost:8080/"
        },
        "id": "s7pKl4b9b1HW",
        "outputId": "17b8f5a0-7384-4a3c-ed68-c7909f3b44cb"
      },
      "outputs": [
        {
          "data": {
            "text/plain": [
              "count    301.000000\n",
              "mean     131.568106\n",
              "std       17.583122\n",
              "min       94.000000\n",
              "25%      120.000000\n",
              "50%      130.000000\n",
              "75%      140.000000\n",
              "max      200.000000\n",
              "Name: trestbps, dtype: float64"
            ]
          },
          "execution_count": 16,
          "metadata": {},
          "output_type": "execute_result"
        }
      ],
      "source": [
        "df['trestbps'].describe()"
      ]
    },
    {
      "cell_type": "code",
      "execution_count": null,
      "metadata": {
        "colab": {
          "base_uri": "https://localhost:8080/"
        },
        "id": "QtoQ_gZPb-QU",
        "outputId": "5f37491b-2fb1-4d53-d278-0471c013334c"
      },
      "outputs": [
        {
          "data": {
            "text/plain": [
              "count    301.000000\n",
              "mean     246.438538\n",
              "std       51.942279\n",
              "min      126.000000\n",
              "25%      211.000000\n",
              "50%      241.000000\n",
              "75%      275.000000\n",
              "max      564.000000\n",
              "Name: chol, dtype: float64"
            ]
          },
          "execution_count": 17,
          "metadata": {},
          "output_type": "execute_result"
        }
      ],
      "source": [
        "df['chol'].describe()"
      ]
    },
    {
      "cell_type": "code",
      "execution_count": null,
      "metadata": {
        "colab": {
          "base_uri": "https://localhost:8080/"
        },
        "id": "WnN_XYukcshW",
        "outputId": "ae43af7f-a387-4efa-a1ec-11082142bf96"
      },
      "outputs": [
        {
          "data": {
            "text/plain": [
              "count    303.000000\n",
              "mean       0.148515\n",
              "std        0.356198\n",
              "min        0.000000\n",
              "25%        0.000000\n",
              "50%        0.000000\n",
              "75%        0.000000\n",
              "max        1.000000\n",
              "Name: fbs, dtype: float64"
            ]
          },
          "execution_count": 18,
          "metadata": {},
          "output_type": "execute_result"
        }
      ],
      "source": [
        "df['fbs'].describe()"
      ]
    },
    {
      "cell_type": "code",
      "execution_count": null,
      "metadata": {
        "colab": {
          "base_uri": "https://localhost:8080/"
        },
        "id": "XJ6zRhdrcyFx",
        "outputId": "0078359c-b391-44a2-ed91-b39a52348493"
      },
      "outputs": [
        {
          "data": {
            "text/plain": [
              "count    303.000000\n",
              "mean       0.528053\n",
              "std        0.525860\n",
              "min        0.000000\n",
              "25%        0.000000\n",
              "50%        1.000000\n",
              "75%        1.000000\n",
              "max        2.000000\n",
              "Name: restecg, dtype: float64"
            ]
          },
          "execution_count": 19,
          "metadata": {},
          "output_type": "execute_result"
        }
      ],
      "source": [
        "df['restecg'].describe()"
      ]
    },
    {
      "cell_type": "code",
      "execution_count": null,
      "metadata": {
        "colab": {
          "base_uri": "https://localhost:8080/"
        },
        "id": "pikCdxFec3AY",
        "outputId": "df847b5f-414d-4175-bfdd-a269fa603711"
      },
      "outputs": [
        {
          "data": {
            "text/plain": [
              "count    301.000000\n",
              "mean     149.528239\n",
              "std       22.930403\n",
              "min       71.000000\n",
              "25%      133.000000\n",
              "50%      152.000000\n",
              "75%      166.000000\n",
              "max      202.000000\n",
              "Name: thalach, dtype: float64"
            ]
          },
          "execution_count": 20,
          "metadata": {},
          "output_type": "execute_result"
        }
      ],
      "source": [
        "df['thalach'].describe()"
      ]
    },
    {
      "cell_type": "code",
      "execution_count": null,
      "metadata": {
        "colab": {
          "base_uri": "https://localhost:8080/"
        },
        "id": "WIbgJa8ic8Qc",
        "outputId": "3a2b94f3-343a-4c68-8b0f-e5e2ad9c963c"
      },
      "outputs": [
        {
          "data": {
            "text/plain": [
              "count    303.000000\n",
              "mean       0.326733\n",
              "std        0.469794\n",
              "min        0.000000\n",
              "25%        0.000000\n",
              "50%        0.000000\n",
              "75%        1.000000\n",
              "max        1.000000\n",
              "Name: exang, dtype: float64"
            ]
          },
          "execution_count": 21,
          "metadata": {},
          "output_type": "execute_result"
        }
      ],
      "source": [
        "df['exang'].describe()"
      ]
    },
    {
      "cell_type": "code",
      "execution_count": null,
      "metadata": {
        "colab": {
          "base_uri": "https://localhost:8080/"
        },
        "id": "MtCGeVa1dBaE",
        "outputId": "eadcf4db-502f-4ae5-8560-d85296fb774f"
      },
      "outputs": [
        {
          "data": {
            "text/plain": [
              "count    303.000000\n",
              "mean       1.039604\n",
              "std        1.161075\n",
              "min        0.000000\n",
              "25%        0.000000\n",
              "50%        0.800000\n",
              "75%        1.600000\n",
              "max        6.200000\n",
              "Name: oldpeak, dtype: float64"
            ]
          },
          "execution_count": 22,
          "metadata": {},
          "output_type": "execute_result"
        }
      ],
      "source": [
        "df['oldpeak'].describe()"
      ]
    },
    {
      "cell_type": "code",
      "execution_count": null,
      "metadata": {
        "colab": {
          "base_uri": "https://localhost:8080/"
        },
        "id": "YLKLkJCRdNNv",
        "outputId": "43b3579a-f363-4601-dd55-eed3b005e29b"
      },
      "outputs": [
        {
          "data": {
            "text/plain": [
              "count    303.000000\n",
              "mean       1.399340\n",
              "std        0.616226\n",
              "min        0.000000\n",
              "25%        1.000000\n",
              "50%        1.000000\n",
              "75%        2.000000\n",
              "max        2.000000\n",
              "Name: slope, dtype: float64"
            ]
          },
          "execution_count": 23,
          "metadata": {},
          "output_type": "execute_result"
        }
      ],
      "source": [
        "df['slope'].describe()"
      ]
    },
    {
      "cell_type": "code",
      "execution_count": null,
      "metadata": {
        "colab": {
          "base_uri": "https://localhost:8080/"
        },
        "id": "hT6ndFEpdSXM",
        "outputId": "3b8189f6-5f02-4a2e-e69a-553974a8ae3e"
      },
      "outputs": [
        {
          "data": {
            "text/plain": [
              "count    303.000000\n",
              "mean       0.729373\n",
              "std        1.022606\n",
              "min        0.000000\n",
              "25%        0.000000\n",
              "50%        0.000000\n",
              "75%        1.000000\n",
              "max        4.000000\n",
              "Name: ca, dtype: float64"
            ]
          },
          "execution_count": 24,
          "metadata": {},
          "output_type": "execute_result"
        }
      ],
      "source": [
        "df['ca'].describe()"
      ]
    },
    {
      "cell_type": "code",
      "execution_count": null,
      "metadata": {
        "colab": {
          "base_uri": "https://localhost:8080/"
        },
        "id": "Zk_1ohhBdXFF",
        "outputId": "df01f70a-0af0-4ba9-879c-81c763123aae"
      },
      "outputs": [
        {
          "data": {
            "text/plain": [
              "count    303.000000\n",
              "mean       2.313531\n",
              "std        0.612277\n",
              "min        0.000000\n",
              "25%        2.000000\n",
              "50%        2.000000\n",
              "75%        3.000000\n",
              "max        3.000000\n",
              "Name: thal, dtype: float64"
            ]
          },
          "execution_count": 25,
          "metadata": {},
          "output_type": "execute_result"
        }
      ],
      "source": [
        "df['thal'].describe()"
      ]
    },
    {
      "cell_type": "code",
      "execution_count": null,
      "metadata": {
        "colab": {
          "base_uri": "https://localhost:8080/"
        },
        "id": "UOnD1ihzdagI",
        "outputId": "f3378a24-c296-4922-889b-80473e10ca8c"
      },
      "outputs": [
        {
          "data": {
            "text/plain": [
              "count    303.000000\n",
              "mean       0.544554\n",
              "std        0.498835\n",
              "min        0.000000\n",
              "25%        0.000000\n",
              "50%        1.000000\n",
              "75%        1.000000\n",
              "max        1.000000\n",
              "Name: target, dtype: float64"
            ]
          },
          "execution_count": 26,
          "metadata": {},
          "output_type": "execute_result"
        }
      ],
      "source": [
        "df['target'].describe()"
      ]
    },
    {
      "cell_type": "code",
      "execution_count": null,
      "metadata": {
        "colab": {
          "base_uri": "https://localhost:8080/",
          "height": 295
        },
        "id": "lCpZJO-wwZJC",
        "outputId": "f68ca311-49ea-40a5-88c2-fe8ec97733ef"
      },
      "outputs": [
        {
          "data": {
            "image/png": "[encoded data removed]",
            "text/plain": [
              "<Figure size 432x288 with 1 Axes>"
            ]
          },
          "metadata": {
            "needs_background": "light"
          },
          "output_type": "display_data"
        }
      ],
      "source": [
        "#Plots in matplotlib reside within a figure object, use plt.figure to create new figure\n",
        "fig=plt.figure()\n",
        "#Create one or more subplots using add_subplot, because you can't create blank figure\n",
        "ax = fig.add_subplot(1,1,1)\n",
        "#Variable\n",
        "ax.hist(df['age'],bins = 5)\n",
        "#Labels and Tit\n",
        "plt.title('Age distribution')\n",
        "plt.xlabel('Age')\n",
        "plt.ylabel('Patients')\n",
        "plt.show()"
      ]
    },
    {
      "cell_type": "code",
      "execution_count": null,
      "metadata": {
        "colab": {
          "base_uri": "https://localhost:8080/",
          "height": 295
        },
        "id": "IBxv4CsvxrBY",
        "outputId": "95088d1d-6721-4cc9-844a-bb32a4a9bcdd"
      },
      "outputs": [
        {
          "data": {
            "image/png": "[encoded data removed]",
            "text/plain": [
              "<Figure size 432x288 with 1 Axes>"
            ]
          },
          "metadata": {
            "needs_background": "light"
          },
          "output_type": "display_data"
        }
      ],
      "source": [
        "#Plots in matplotlib reside within a figure object, use plt.figure to create new figure\n",
        "fig=plt.figure()\n",
        "#Create one or more subplots using add_subplot, because you can't create blank figure\n",
        "ax = fig.add_subplot(1,1,1)\n",
        "#Variable\n",
        "ax.hist(df['chol'],bins = 5)\n",
        "#Labels and Tit\n",
        "plt.title('Cholestrol Level Distribution')\n",
        "plt.xlabel('Cholestrol Level')\n",
        "plt.ylabel('Patients')\n",
        "plt.show()"
      ]
    },
    {
      "cell_type": "code",
      "execution_count": null,
      "metadata": {
        "colab": {
          "base_uri": "https://localhost:8080/",
          "height": 295
        },
        "id": "lot5amASzJce",
        "outputId": "f9f61932-e478-4ccc-a647-26a45291f082"
      },
      "outputs": [
        {
          "data": {
            "image/png": "[encoded data removed]",
            "text/plain": [
              "<Figure size 432x288 with 1 Axes>"
            ]
          },
          "metadata": {
            "needs_background": "light"
          },
          "output_type": "display_data"
        }
      ],
      "source": [
        "#Plots in matplotlib reside within a figure object, use plt.figure to create new figure\n",
        "fig=plt.figure()\n",
        "#Create one or more subplots using add_subplot, because you can't create blank figure\n",
        "ax = fig.add_subplot(1,1,1)\n",
        "#Variable\n",
        "ax.scatter(df['age'],df['chol'])\n",
        "#Labels and Tit\n",
        "plt.title('Cholestrol and Age distribution')\n",
        "plt.xlabel('Age')\n",
        "plt.ylabel('Cholestrol')\n",
        "plt.show()"
      ]
    },
    {
      "cell_type": "code",
      "execution_count": null,
      "metadata": {
        "colab": {
          "base_uri": "https://localhost:8080/",
          "height": 334
        },
        "id": "Gxa33lp_zjBS",
        "outputId": "767e67b7-bb8e-46a1-ce49-119f4cfea7a7"
      },
      "outputs": [
        {
          "name": "stderr",
          "output_type": "stream",
          "text": [
            "/usr/local/lib/python3.7/dist-packages/seaborn/_decorators.py:43: FutureWarning: Pass the following variable as a keyword arg: x. From version 0.12, the only valid positional argument will be `data`, and passing other arguments without an explicit keyword will result in an error or misinterpretation.\n",
            "  FutureWarning\n"
          ]
        },
        {
          "data": {
            "image/png": "[encoded data removed]",
            "text/plain": [
              "<Figure size 432x288 with 1 Axes>"
            ]
          },
          "metadata": {
            "needs_background": "light"
          },
          "output_type": "display_data"
        }
      ],
      "source": [
        "import seaborn as sns\n",
        "sns.boxplot(df['age'])\n",
        "sns.despine()"
      ]
    },
    {
      "cell_type": "code",
      "execution_count": null,
      "metadata": {
        "colab": {
          "base_uri": "https://localhost:8080/",
          "height": 317
        },
        "id": "6aPbvkDG1zmM",
        "outputId": "a367d82e-4cd6-423e-a49a-1b488d9424bd"
      },
      "outputs": [
        {
          "name": "stdout",
          "output_type": "stream",
          "text": [
            "[[1.         0.21005713]\n",
            " [0.21005713 1.        ]]\n"
          ]
        },
        {
          "data": {
            "text/plain": [
              "[<matplotlib.lines.Line2D at 0x7fc83e8bced0>]"
            ]
          },
          "execution_count": 57,
          "metadata": {},
          "output_type": "execute_result"
        },
        {
          "data": {
            "image/png": "[encoded data removed]",
            "text/plain": [
              "<Figure size 432x288 with 1 Axes>"
            ]
          },
          "metadata": {
            "needs_background": "light"
          },
          "output_type": "display_data"
        }
      ],
      "source": [
        "import sklearn\n",
        "import numpy as np\n",
        "import matplotlib.pyplot as plt\n",
        "import pandas as pd\n",
        "y = df['age']\n",
        "x = df['chol']\n",
        "correlation = y.corr(x)\n",
        "correlation\n",
        "\n",
        "# create correlation matrix\n",
        "matrix = np.corrcoef(x, y)\n",
        " \n",
        "# print matrix\n",
        "print(matrix)\n",
        "\n",
        "# plotting the data\n",
        "plt.scatter(x, y)\n",
        " \n",
        "# This will fit the best line into the graph\n",
        "plt.plot(np.unique(x), np.poly1d(np.polyfit(x, y, 1))\n",
        "         (np.unique(x)), color='red')"
      ]
    },
    {
      "cell_type": "code",
      "execution_count": null,
      "metadata": {
        "colab": {
          "base_uri": "https://localhost:8080/"
        },
        "id": "i4obh337-OnA",
        "outputId": "e12ccae9-2c58-4784-f5c8-3f298250f96f"
      },
      "outputs": [
        {
          "name": "stdout",
          "output_type": "stream",
          "text": [
            "     age  sex  cp  trestbps   chol  fbs  restecg  thalach  exang  oldpeak  \\\n",
            "0     63    1   3     145.0  233.0    1        0    150.0      0      2.3   \n",
            "1     37    1   2     130.0  250.0    0        1    187.0      0      3.5   \n",
            "2     41    0   1     130.0  246.4    0        0    172.0      0      1.4   \n",
            "3     56    1   1     120.0  246.4    0        1    178.0      0      0.8   \n",
            "4     57    0   0     120.0  354.0    0        1    163.0      1      0.6   \n",
            "..   ...  ...  ..       ...    ...  ...      ...      ...    ...      ...   \n",
            "298   57    0   0     140.0  241.0    0        1    123.0      1      0.2   \n",
            "299   45    1   3     110.0  264.0    0        1    132.0      0      1.2   \n",
            "300   68    1   0     144.0  193.0    1        1    141.0      0      3.4   \n",
            "301   57    1   0     130.0  131.0    0        1    115.0      1      1.2   \n",
            "302   57    0   1     130.0  236.0    0        0    174.0      0      0.0   \n",
            "\n",
            "     slope  ca  thal  target  \n",
            "0        0   0     1       1  \n",
            "1        0   0     2       1  \n",
            "2        2   0     2       1  \n",
            "3        2   0     2       1  \n",
            "4        2   0     2       1  \n",
            "..     ...  ..   ...     ...  \n",
            "298      1   0     3       0  \n",
            "299      1   0     3       0  \n",
            "300      1   2     3       0  \n",
            "301      1   1     3       0  \n",
            "302      1   1     2       0  \n",
            "\n",
            "[303 rows x 14 columns]\n"
          ]
        }
      ],
      "source": [
        "df.fillna(df.mean().round(1), inplace=True)\n",
        "print(df)"
      ]
    }
  ],
  "metadata": {
    "colab": {
      "provenance": []
    },
    "kernelspec": {
      "display_name": "Python 3",
      "name": "python3"
    },
    "language_info": {
      "name": "python"
    }
  },
  "nbformat": 4,
  "nbformat_minor": 0
}
